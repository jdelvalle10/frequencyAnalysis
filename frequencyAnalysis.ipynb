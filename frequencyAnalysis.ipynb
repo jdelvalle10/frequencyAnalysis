def read_file(ciphered):
    with open(ciphered, 'r', ) as file:
            ciphered_text = file.read()
    return ciphered_text
